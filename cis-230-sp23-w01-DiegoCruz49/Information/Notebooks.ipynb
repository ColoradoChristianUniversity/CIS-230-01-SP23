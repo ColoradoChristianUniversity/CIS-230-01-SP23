{
 "cells": [
  {
   "attachments": {},
   "cell_type": "markdown",
   "metadata": {
    "dotnet_interactive": {
     "language": "csharp"
    },
    "polyglot_notebook": {
     "kernelName": "csharp"
    }
   },
   "source": [
    "# Notebooks\n",
    "\n",
    "This is a Polyglot Notebook. Notebooks let you write snippets of code in a Cell and run it. Though there are several things you cannot do because a Cell is so simple, testing syntax and running just a few lines works great and is easy to use. \n",
    "\n",
    "### The File Extension\n",
    "\n",
    "Look at the file name. it is `Welcome.ipynb`. The `ipynb` stands for Interactive Python Notebook. The first Notebook only supported the Python programming language. As Python changed versions, Notebooks continued to support it by using Kernels - an external part of the Notebook that would execute the Python and return the results for the Notebook to display.\n",
    "\n",
    "**That a look at this flow in the following Cell**"
   ]
  },
  {
   "cell_type": "code",
   "execution_count": 10,
   "metadata": {
    "dotnet_interactive": {
     "language": "mermaid"
    },
    "polyglot_notebook": {
     "kernelName": "mermaid"
    },
    "vscode": {
     "languageId": "polyglot-notebook"
    }
   },
   "outputs": [
    {
     "data": {
      "text/html": [
       "<div class=\"mermaidMarkdownContainer\" style=\"background-color:white\">\r\n",
       "<link rel=\"stylesheet\" href=\"https://cdnjs.cloudflare.com/ajax/libs/font-awesome/6.2.0/css/all.min.css\">\r\n",
       "<script type=\"text/javascript\">\r\n",
       "\r\n",
       "loadMermaid_435312aecbcd40f0ba3286ebc68328b7 = () => {\r\n",
       " \r\n",
       "        (require.config({ 'paths': { 'context': '9.1.7', 'mermaidUri' : 'https://cdn.jsdelivr.net/npm/mermaid@9.1.7/dist/mermaid.min', 'urlArgs': 'cacheBuster=51d05df338ff479eae179fa92ae8a2eb' }}) || require)(['mermaidUri'], (mermaid) => {\r\n",
       "\r\n",
       "            let renderTarget = document.getElementById('435312aecbcd40f0ba3286ebc68328b7');\r\n",
       "            mermaid.mermaidAPI.render( \r\n",
       "                'mermaid_435312aecbcd40f0ba3286ebc68328b7', \r\n",
       "                `sequenceDiagram\r\n",
       "    Developer->>+Notebook: Writes Code\r\n",
       "    Notebook->>+Kernel: Submits Code\r\n",
       "    Kernel-->>-Notebook: Returns Raw Results\r\n",
       "    Notebook-->>-Developer: Returns Formatted Results`, \r\n",
       "                g => {\r\n",
       "                    renderTarget.innerHTML = g \r\n",
       "                });\r\n",
       "        },\r\n",
       "        (error) => {\r\n",
       "            console.log(error);\r\n",
       "        });\r\n",
       "}\r\n",
       "// ensure `require` is available globally\r\n",
       "if ((typeof(require) !==  typeof(Function)) || (typeof(require.config) !== typeof(Function))) {\r\n",
       "    let require_script = document.createElement('script');\r\n",
       "    require_script.setAttribute('src', 'https://cdnjs.cloudflare.com/ajax/libs/require.js/2.3.6/require.min.js');\r\n",
       "    require_script.setAttribute('type', 'text/javascript');\r\n",
       "    \r\n",
       "    \r\n",
       "    require_script.onload = function() {\r\n",
       "        loadMermaid_435312aecbcd40f0ba3286ebc68328b7();\r\n",
       "    };\r\n",
       "\r\n",
       "    document.getElementsByTagName('head')[0].appendChild(require_script);\r\n",
       "}\r\n",
       "else {\r\n",
       "    loadMermaid_435312aecbcd40f0ba3286ebc68328b7();\r\n",
       "}\r\n",
       "\r\n",
       "</script>\r\n",
       "<div id=\"435312aecbcd40f0ba3286ebc68328b7\"></div>\r\n",
       "</div>\r\n"
      ]
     },
     "metadata": {},
     "output_type": "display_data"
    }
   ],
   "source": [
    "sequenceDiagram\n",
    "    Developer->>+Notebook: Writes Code\n",
    "    Notebook->>+Kernel: Submits Code\n",
    "    Kernel-->>-Notebook: Returns Raw Results\n",
    "    Notebook-->>-Developer: Returns Formatted Results"
   ]
  },
  {
   "attachments": {},
   "cell_type": "markdown",
   "metadata": {
    "dotnet_interactive": {
     "language": "csharp"
    },
    "polyglot_notebook": {
     "kernelName": "csharp"
    }
   },
   "source": [
    "That diagram is called a [Mermaid diagram](https://mermaid.live/edit). It's just another language supported in the Polygot Notebook. Mermaid lets you write out sequence diagrams, flow charts, gantt charts, and tons of other types of charts as plain text. The Notebook can render them as nice images. Cool, huh?\n",
    "\n",
    "### Additional Kernels\n",
    "\n",
    "Because Notebooks are so handy, programmers wanted them for other programming languages. It turned out that swapping the Python Kernel with new Kernels did just that. The C# Kernel, for example, allows developers like you to write C# in a \"Python Notebook\"! The file extension (`ipynb`), however, never changed. \n",
    "\n",
    "### The Polyglot Extension\n",
    "\n",
    "Notebooks are everywhere. Here in Visual Studio Code, the [Polyglot Extension](https://marketplace.visualstudio.com/items?itemName=ms-dotnettools.dotnet-interactive-vscode) supports tons of languages, including C#. Each cell can use a different Kernel. One of the kernels is Markdown (this cell is written in Markdown). Markdown lets you write in English but with formatting like:\n",
    "\n",
    " -  **bold** \n",
    " - *italic*\n",
    " - _underline_\n",
    " - even lists like this!\n",
    "\n",
    "Now, you can introduce cells that clearly document or explain the code cells above or below it. So, not only are Notebooks a great place for some simple code, they are a great way to communicate.\n",
    "\n",
    "### Some Tips\n",
    "\n"
   ]
  },
  {
   "cell_type": "code",
   "execution_count": 16,
   "metadata": {
    "dotnet_interactive": {
     "language": "csharp"
    },
    "polyglot_notebook": {
     "kernelName": "csharp"
    },
    "vscode": {
     "languageId": "polyglot-notebook"
    }
   },
   "outputs": [
    {
     "name": "stdout",
     "output_type": "stream",
     "text": [
      "Jerry"
     ]
    }
   ],
   "source": [
    "// create a variable and assign your name\n",
    "var x = \"Jerry\";\n",
    "Console.Write(x);"
   ]
  },
  {
   "attachments": {},
   "cell_type": "markdown",
   "metadata": {
    "dotnet_interactive": {
     "language": "csharp"
    },
    "polyglot_notebook": {
     "kernelName": "csharp"
    }
   },
   "source": [
    "The keyword `var` is an implicit declaration. It indicates a variable, but not indicate the type of data in that variable. Types would include numbers, strings, or even dates. The C# compiler is smart. It figures out (or implicates) the type by looking at the value. \n",
    "\n",
    "Also note the `Console.Write(x);` part which tells the Notebook to write the value of `x`. If you run the cell by clicking the ▶️ symbol next to it, it will execute and you will see the output. You should change the value from `\"Jerry\"` to your name. \n",
    "\n",
    "**But this would not work.**"
   ]
  },
  {
   "cell_type": "code",
   "execution_count": 15,
   "metadata": {
    "dotnet_interactive": {
     "language": "csharp"
    },
    "polyglot_notebook": {
     "kernelName": "csharp"
    },
    "vscode": {
     "languageId": "polyglot-notebook"
    }
   },
   "outputs": [
    {
     "ename": "Error",
     "evalue": "(1,5): error CS0818: Implicitly-typed variables must be initialized",
     "output_type": "error",
     "traceback": [
      "(1,5): error CS0818: Implicitly-typed variables must be initialized"
     ]
    }
   ],
   "source": [
    "var x;\n",
    "x = \"Jerry\";\n",
    "Console.Write(x);"
   ]
  },
  {
   "attachments": {},
   "cell_type": "markdown",
   "metadata": {
    "dotnet_interactive": {
     "language": "csharp"
    },
    "polyglot_notebook": {
     "kernelName": "csharp"
    }
   },
   "source": [
    "I know it looks basically the same, but it is different - it is on two lines. If you think about it one line at a time, the C# compiler looks at the first line and doesn't understand what you are doing. As a result you need to do it all in one line if you are going to use `var`:\n",
    "\n",
    "````csharp\n",
    "    var x = \"Jerry\";\n",
    "````\n",
    "\n",
    "It is worth noting here that most developers prefer `var` simply because it is so short and to the point. But `var` is also somewhat new so a lot of sample code doesn't use it. That doesn't mean there is a problem with it.\n",
    "\n",
    "But there's another way - the explicit declaration. In this case, you replace the `var` with the actual data type. \n",
    "\n",
    "````csharp\n",
    "    string x = \"Jerry\";\n",
    "````\n",
    "\n",
    "> Note: This  requires you to know the data types. Since you are just getting started this can seem difficult. Soon, you will know the 12 (or so) data types and that will be a non-issue. \n",
    "\n",
    "Here's the main difference, you are telling the C# compiler what types are allowed to be put into this variable instead of asking the compiler to figure it out on its own. As a result, you can do this:"
   ]
  },
  {
   "cell_type": "code",
   "execution_count": 3,
   "metadata": {
    "dotnet_interactive": {
     "language": "csharp"
    },
    "polyglot_notebook": {
     "kernelName": "csharp"
    },
    "vscode": {
     "languageId": "polyglot-notebook"
    }
   },
   "outputs": [
    {
     "name": "stdout",
     "output_type": "stream",
     "text": [
      "Jerry"
     ]
    }
   ],
   "source": [
    "string x;\n",
    "x = \"Jerry\";\n",
    "Console.Write(x);"
   ]
  }
 ],
 "metadata": {
  "kernelspec": {
   "display_name": ".NET (C#)",
   "language": "C#",
   "name": ".net-csharp"
  },
  "polyglot_notebook": {
   "kernelInfo": {
    "defaultKernelName": "csharp",
    "items": [
     {
      "aliases": [
       "c#",
       "C#"
      ],
      "languageName": "C#",
      "name": "csharp"
     },
     {
      "aliases": [
       "frontend"
      ],
      "name": "vscode"
     },
     {
      "aliases": [],
      "name": ".NET"
     },
     {
      "aliases": [
       "f#",
       "F#"
      ],
      "languageName": "F#",
      "name": "fsharp"
     },
     {
      "aliases": [],
      "languageName": "HTML",
      "name": "html"
     },
     {
      "aliases": [],
      "languageName": "KQL",
      "name": "kql"
     },
     {
      "aliases": [],
      "languageName": "Mermaid",
      "name": "mermaid"
     },
     {
      "aliases": [
       "powershell"
      ],
      "languageName": "PowerShell",
      "name": "pwsh"
     },
     {
      "aliases": [],
      "languageName": "SQL",
      "name": "sql"
     },
     {
      "aliases": [],
      "name": "value"
     },
     {
      "aliases": [
       "js"
      ],
      "languageName": "JavaScript",
      "name": "javascript"
     },
     {
      "aliases": [],
      "name": "webview"
     }
    ]
   }
  }
 },
 "nbformat": 4,
 "nbformat_minor": 2
}
