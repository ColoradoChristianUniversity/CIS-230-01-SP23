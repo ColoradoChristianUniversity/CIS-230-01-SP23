{
 "cells": [
  {
   "attachments": {},
   "cell_type": "markdown",
   "metadata": {
    "dotnet_interactive": {
     "language": "csharp"
    },
    "polyglot_notebook": {
     "kernelName": "csharp"
    }
   },
   "source": [
    "### Basic Keyboard Shortcuts\n",
    "\n",
    "The last thing I will share are some keyboard shortcuts to help you use Notebooks more efficiently. There are only a few, but these few will make your day. Trust me.\n",
    "\n",
    "`CTRL+ENTER` Use this shortcut to run the current cell. If you are in a Markdown cell it will simply close and render it. If you are in a Code cell it will simply run that cell.\n",
    "\n",
    "`SHIFT+ENTER` Use this shortcut to run the current *AND* create a new cell below it. This is useful if you are writing snippets that build on each other. \n",
    "\n",
    "> Note: Variables in an upper cell can be used in a lower cell so long as the upper cell has run. \n",
    "\n",
    "`CTRL+SPACE` Use this shortcut to cause Visual Studio Code to open the Intellisense drop down. This drop down will try to help you with the current line. Sometimes it is useless, but in a Coding cell it can be one of the handiest helpers around.\n",
    "\n",
    "`CTRL+S` Save the notebook. \n",
    "\n",
    "#### Clipboard operations\n",
    "\n",
    "You likely already know Windows has a clipboard.\n",
    "\n",
    "`CTRL+C` Use this shortcut to Copy the selected text to the Clipboard.\n",
    "\n",
    "`CTRL+X` Use this shortcut to Cut the selected text to the Clipboard. This works just like Copy except it deletes the selection.\n",
    "\n",
    "`CTRL+V` Use this shortcut to Paste whatever text is in the Clipboard wherever the cursor currently is positioned. \n",
    "\n",
    "`WINDOW+V` Use this amazing shortcut to open a dropdown list of your Clipboard history. You can select an item and paste it."
   ]
  },
  {
   "cell_type": "markdown",
   "metadata": {
    "dotnet_interactive": {
     "language": "csharp"
    },
    "polyglot_notebook": {
     "kernelName": "csharp"
    }
   },
   "source": []
  },
  {
   "cell_type": "markdown",
   "metadata": {
    "dotnet_interactive": {
     "language": "csharp"
    },
    "polyglot_notebook": {
     "kernelName": "csharp"
    }
   },
   "source": []
  }
 ],
 "metadata": {
  "kernelspec": {
   "display_name": ".NET (C#)",
   "language": "C#",
   "name": ".net-csharp"
  },
  "polyglot_notebook": {
   "kernelInfo": {
    "defaultKernelName": "csharp",
    "items": [
     {
      "aliases": [
       "c#",
       "C#"
      ],
      "languageName": "C#",
      "name": "csharp"
     },
     {
      "aliases": [
       "frontend"
      ],
      "name": "vscode"
     },
     {
      "aliases": [],
      "name": ".NET"
     },
     {
      "aliases": [
       "f#",
       "F#"
      ],
      "languageName": "F#",
      "name": "fsharp"
     },
     {
      "aliases": [],
      "languageName": "HTML",
      "name": "html"
     },
     {
      "aliases": [],
      "languageName": "KQL",
      "name": "kql"
     },
     {
      "aliases": [],
      "languageName": "Mermaid",
      "name": "mermaid"
     },
     {
      "aliases": [
       "powershell"
      ],
      "languageName": "PowerShell",
      "name": "pwsh"
     },
     {
      "aliases": [],
      "languageName": "SQL",
      "name": "sql"
     },
     {
      "aliases": [],
      "name": "value"
     },
     {
      "aliases": [
       "js"
      ],
      "languageName": "JavaScript",
      "name": "javascript"
     },
     {
      "aliases": [],
      "name": "webview"
     }
    ]
   }
  }
 },
 "nbformat": 4,
 "nbformat_minor": 2
}
