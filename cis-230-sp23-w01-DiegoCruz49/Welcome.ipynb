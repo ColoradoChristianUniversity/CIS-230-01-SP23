{
 "cells": [
  {
   "attachments": {},
   "cell_type": "markdown",
   "metadata": {
    "dotnet_interactive": {
     "language": "csharp"
    },
    "polyglot_notebook": {
     "kernelName": "csharp"
    }
   },
   "source": [
    "# Welcome CIS-230\n",
    "\n",
    "This is week 1.\n",
    "\n",
    "**Files in this repository:**\n",
    "\n",
    "1. `Welcome.ipynb` - this file with assignment requirements\n",
    "1. `Assignment.ipynb` - the coding assignment file (where you work)\n",
    "1. `Information/Notebooks.ipynb` - all about notebooks\n",
    "1. `Information/Markdown.ipynb` - all about markdown\n",
    "1. `Information/Shortcuts.ipynb` - notebook keyboard shortcuts\n",
    "\n",
    "# Assignment Requirements\n",
    "\n",
    "This is what you need to do to complete your assignment.\n",
    "\n",
    " 1. Complete every coding cell in Assignment.ipynb\n",
    " 1. Read/review Notebooks.ipynb\n",
    " 1. Read/review Markdown.ipynb"
   ]
  }
 ],
 "metadata": {
  "kernelspec": {
   "display_name": ".NET (C#)",
   "language": "C#",
   "name": ".net-csharp"
  },
  "polyglot_notebook": {
   "kernelInfo": {
    "defaultKernelName": "csharp",
    "items": [
     {
      "aliases": [
       "c#",
       "C#"
      ],
      "languageName": "C#",
      "name": "csharp"
     },
     {
      "aliases": [
       "frontend"
      ],
      "name": "vscode"
     },
     {
      "aliases": [],
      "name": ".NET"
     },
     {
      "aliases": [
       "f#",
       "F#"
      ],
      "languageName": "F#",
      "name": "fsharp"
     },
     {
      "aliases": [],
      "languageName": "HTML",
      "name": "html"
     },
     {
      "aliases": [],
      "languageName": "KQL",
      "name": "kql"
     },
     {
      "aliases": [],
      "languageName": "Mermaid",
      "name": "mermaid"
     },
     {
      "aliases": [
       "powershell"
      ],
      "languageName": "PowerShell",
      "name": "pwsh"
     },
     {
      "aliases": [],
      "languageName": "SQL",
      "name": "sql"
     },
     {
      "aliases": [],
      "name": "value"
     },
     {
      "aliases": [
       "js"
      ],
      "languageName": "JavaScript",
      "name": "javascript"
     },
     {
      "aliases": [],
      "name": "webview"
     }
    ]
   }
  }
 },
 "nbformat": 4,
 "nbformat_minor": 2
}
